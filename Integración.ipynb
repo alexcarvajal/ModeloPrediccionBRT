{
  "nbformat": 4,
  "nbformat_minor": 0,
  "metadata": {
    "colab": {
      "provenance": [],
      "collapsed_sections": [
        "6zRil7tBkL6O",
        "rW0sWWOOkFz8"
      ],
      "authorship_tag": "ABX9TyPBvcqrF9zDS/DmqNTaHsCM",
      "include_colab_link": true
    },
    "kernelspec": {
      "name": "python3",
      "display_name": "Python 3"
    },
    "language_info": {
      "name": "python"
    }
  },
  "cells": [
    {
      "cell_type": "markdown",
      "metadata": {
        "id": "view-in-github",
        "colab_type": "text"
      },
      "source": [
        "<a href=\"https://colab.research.google.com/github/alexcarvajal/ModeloPrediccionBRT/blob/main/Integraci%C3%B3n.ipynb\" target=\"_parent\"><img src=\"https://colab.research.google.com/assets/colab-badge.svg\" alt=\"Open In Colab\"/></a>"
      ]
    },
    {
      "cell_type": "markdown",
      "source": [
        "# Integración Dataset 1\n"
      ],
      "metadata": {
        "id": "6zRil7tBkL6O"
      }
    },
    {
      "cell_type": "code",
      "source": [
        "import pandas as d\n",
        "# Leer los archivos CSV\n",
        "df1 = d.read_csv('salidas20230806.csv')\n",
        "df2 = d.read_csv('salidas20230807.csv')\n",
        "df3 = d.read_csv('salidas20230808.csv')\n",
        "df4 = d.read_csv('salidas20230809.csv')\n",
        "df5 = d.read_csv('salidas20230810.csv')\n",
        "df6 = d.read_csv('salidas20230811.csv')\n",
        "df7 = d.read_csv('salidas20230813.csv')\n",
        "df8 = d.read_csv('salidas20230814.csv')\n",
        "df9 = d.read_csv('salidas20230815.csv')\n",
        "df10 = d.read_csv('salidas20230816.csv')\n",
        "df11 = d.read_csv('salidas20230817.csv')\n",
        "df12 = d.read_csv('salidas20230818.csv')\n",
        "df13 = d.read_csv('salidas20230819.csv')\n",
        "df14 = d.read_csv('salidas20230820.csv')\n",
        "df15 = d.read_csv('salidas20230821.csv')\n",
        "df16 = d.read_csv('salidas20230822.csv')\n",
        "df17 = d.read_csv('salidas20230823.csv')\n",
        "df18 = d.read_csv('salidas20230824.csv')\n",
        "df19 = d.read_csv('salidas20230825.csv')\n",
        "df20 = d.read_csv('salidas20230826.csv')\n",
        "df21 = d.read_csv('salidas20230827.csv')\n",
        "# Unir los conjuntos de datos verticalmente\n",
        "result = d.concat([df1, df2, df3, df4, df5, df6, df7, df8, df9, df10,df11, df12, df13, df14, df15, df16, df17, df18, df19, df20, df21], axis=0).reset_index(drop=True)\n",
        "elimin = result.drop(['Unnamed: 0'],axis=1)\n",
        "elimin.rename(columns={'Day_Number_Week': 'Day_Week_Number'}, inplace=True)\n",
        "elimin.info()\n",
        "#result.to_csv('salidas20230806to27Eng.csv', index=False)\n",
        "elimin['Station'].head(10)\n",
        "#result.to_csv('salidas20230806to27Engtop10.csv', index=False)\n"
      ],
      "metadata": {
        "id": "rKxE96eRkEHE"
      },
      "execution_count": null,
      "outputs": []
    },
    {
      "cell_type": "markdown",
      "source": [
        "# Integración Dataset 2"
      ],
      "metadata": {
        "id": "rW0sWWOOkFz8"
      }
    },
    {
      "cell_type": "code",
      "execution_count": null,
      "metadata": {
        "id": "2tSOIXfQjTEn"
      },
      "outputs": [],
      "source": [
        "import pandas as d\n",
        "# Leer los archivos CSV\n",
        "df1 = d.read_csv('validacionTroncal20230806.csv')\n",
        "df2 = d.read_csv('validacionTroncal20230807.csv')\n",
        "df3 = d.read_csv('validacionTroncal20230808.csv')\n",
        "df4 = d.read_csv('validacionTroncal20230809.csv')\n",
        "df5 = d.read_csv('validacionTroncal20230810.csv')\n",
        "df6 = d.read_csv('validacionTroncal20230811.csv')\n",
        "df7 = d.read_csv('validacionTroncal20230813.csv')\n",
        "df8 = d.read_csv('validacionTroncal20230814.csv')\n",
        "df9 = d.read_csv('validacionTroncal20230815.csv')\n",
        "df10 = d.read_csv('validacionTroncal20230816.csv')\n",
        "df11 = d.read_csv('validacionTroncal20230817.csv')\n",
        "df12 = d.read_csv('validacionTroncal20230818.csv')\n",
        "df13 = d.read_csv('validacionTroncal20230819.csv')\n",
        "df14 = d.read_csv('validacionTroncal20230820.csv')\n",
        "df15 = d.read_csv('validacionTroncal20230821.csv')\n",
        "df16 = d.read_csv('validacionTroncal20230822.csv')\n",
        "df17 = d.read_csv('validacionTroncal20230823.csv')\n",
        "df18 = d.read_csv('validacionTroncal20230824.csv')\n",
        "df19 = d.read_csv('validacionTroncal20230825.csv')\n",
        "df20 = d.read_csv('validacionTroncal20230826.csv')\n",
        "df21 = d.read_csv('validacionTroncal20230827.csv')\n",
        "# Unir los conjuntos de datos verticalmente\n",
        "result = d.concat([df1, df2, df3, df4, df5, df6, df7, df8, df9, df10,df11, df12, df13, df14, df15, df16, df17, df18, df19, df20, df21], axis=0).reset_index(drop=True)\n",
        "result.rename(columns={'Day_Number_Week': 'Day_Week_Number'}, inplace=True)\n",
        "result.info()\n",
        "#result.to_csv('validacionTroncal20230806to27.csv', index=False)\n",
        "result['Station'].head(10)\n",
        "#result.to_csv('salidas20230806to27Engtop10.csv', index=False)\n",
        "\n"
      ]
    }
  ]
}