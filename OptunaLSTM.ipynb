{
  "nbformat": 4,
  "nbformat_minor": 0,
  "metadata": {
    "colab": {
      "provenance": [],
      "mount_file_id": "17F8ZCgIDlYAvLqNY8enV1triGTwfqTis",
      "authorship_tag": "ABX9TyMX3VFJEtCZt6/CsjKpu35W",
      "include_colab_link": true
    },
    "kernelspec": {
      "name": "python3",
      "display_name": "Python 3"
    },
    "language_info": {
      "name": "python"
    }
  },
  "cells": [
    {
      "cell_type": "markdown",
      "metadata": {
        "id": "view-in-github",
        "colab_type": "text"
      },
      "source": [
        "<a href=\"https://colab.research.google.com/github/alexcarvajal/ModeloPrediccionBRT/blob/main/OptunaLSTM.ipynb\" target=\"_parent\"><img src=\"https://colab.research.google.com/assets/colab-badge.svg\" alt=\"Open In Colab\"/></a>"
      ]
    },
    {
      "cell_type": "markdown",
      "source": [
        "# Instalación Optuna"
      ],
      "metadata": {
        "id": "T61N7cZE9Td4"
      }
    },
    {
      "cell_type": "code",
      "source": [
        "!pip install Optuna"
      ],
      "metadata": {
        "colab": {
          "base_uri": "https://localhost:8080/"
        },
        "id": "XkFaJN819Ecu",
        "outputId": "39158208-31d6-4332-9b68-e34748989187"
      },
      "execution_count": 2,
      "outputs": [
        {
          "output_type": "stream",
          "name": "stdout",
          "text": [
            "Collecting Optuna\n",
            "  Downloading optuna-3.5.0-py3-none-any.whl (413 kB)\n",
            "\u001b[2K     \u001b[90m━━━━━━━━━━━━━━━━━━━━━━━━━━━━━━━━━━━━━━━━\u001b[0m \u001b[32m413.4/413.4 kB\u001b[0m \u001b[31m5.9 MB/s\u001b[0m eta \u001b[36m0:00:00\u001b[0m\n",
            "\u001b[?25hCollecting alembic>=1.5.0 (from Optuna)\n",
            "  Downloading alembic-1.13.1-py3-none-any.whl (233 kB)\n",
            "\u001b[2K     \u001b[90m━━━━━━━━━━━━━━━━━━━━━━━━━━━━━━━━━━━━━━━━\u001b[0m \u001b[32m233.4/233.4 kB\u001b[0m \u001b[31m8.1 MB/s\u001b[0m eta \u001b[36m0:00:00\u001b[0m\n",
            "\u001b[?25hCollecting colorlog (from Optuna)\n",
            "  Downloading colorlog-6.8.2-py3-none-any.whl (11 kB)\n",
            "Requirement already satisfied: numpy in /usr/local/lib/python3.10/dist-packages (from Optuna) (1.25.2)\n",
            "Requirement already satisfied: packaging>=20.0 in /usr/local/lib/python3.10/dist-packages (from Optuna) (23.2)\n",
            "Requirement already satisfied: sqlalchemy>=1.3.0 in /usr/local/lib/python3.10/dist-packages (from Optuna) (2.0.28)\n",
            "Requirement already satisfied: tqdm in /usr/local/lib/python3.10/dist-packages (from Optuna) (4.66.2)\n",
            "Requirement already satisfied: PyYAML in /usr/local/lib/python3.10/dist-packages (from Optuna) (6.0.1)\n",
            "Collecting Mako (from alembic>=1.5.0->Optuna)\n",
            "  Downloading Mako-1.3.2-py3-none-any.whl (78 kB)\n",
            "\u001b[2K     \u001b[90m━━━━━━━━━━━━━━━━━━━━━━━━━━━━━━━━━━━━━━━━\u001b[0m \u001b[32m78.7/78.7 kB\u001b[0m \u001b[31m8.7 MB/s\u001b[0m eta \u001b[36m0:00:00\u001b[0m\n",
            "\u001b[?25hRequirement already satisfied: typing-extensions>=4 in /usr/local/lib/python3.10/dist-packages (from alembic>=1.5.0->Optuna) (4.10.0)\n",
            "Requirement already satisfied: greenlet!=0.4.17 in /usr/local/lib/python3.10/dist-packages (from sqlalchemy>=1.3.0->Optuna) (3.0.3)\n",
            "Requirement already satisfied: MarkupSafe>=0.9.2 in /usr/local/lib/python3.10/dist-packages (from Mako->alembic>=1.5.0->Optuna) (2.1.5)\n",
            "Installing collected packages: Mako, colorlog, alembic, Optuna\n",
            "Successfully installed Mako-1.3.2 Optuna-3.5.0 alembic-1.13.1 colorlog-6.8.2\n"
          ]
        }
      ]
    },
    {
      "cell_type": "markdown",
      "source": [
        "# Búsqueda de hiperparámetros Optuna"
      ],
      "metadata": {
        "id": "85zHqwCb9Yg2"
      }
    },
    {
      "cell_type": "code",
      "execution_count": 1,
      "metadata": {
        "colab": {
          "base_uri": "https://localhost:8080/"
        },
        "id": "iQf6E7Tj81Wd",
        "outputId": "ad11164d-2f3e-4e4b-906c-bd5feb931dfb"
      },
      "outputs": [
        {
          "output_type": "stream",
          "name": "stderr",
          "text": [
            "[I 2024-03-06 19:23:27,903] A new study created in memory with name: no-name-bc5c45ed-9453-485a-aa24-f26442e4de5d\n"
          ]
        },
        {
          "output_type": "stream",
          "name": "stdout",
          "text": [
            "Epoch 1/25\n",
            "Epoch 2/25\n",
            "Epoch 3/25\n",
            "Epoch 4/25\n",
            "Epoch 5/25\n",
            "Epoch 6/25\n",
            "Epoch 7/25\n",
            "Epoch 8/25\n",
            "Epoch 9/25\n",
            "Epoch 10/25\n",
            "Epoch 11/25\n",
            "Epoch 12/25\n",
            "Epoch 13/25\n",
            "Epoch 14/25\n",
            "Epoch 15/25\n",
            "Epoch 16/25\n",
            "Epoch 17/25\n",
            "Epoch 18/25\n",
            "Epoch 19/25\n",
            "Epoch 20/25\n",
            "Epoch 21/25\n",
            "Epoch 22/25\n",
            "Epoch 23/25\n",
            "Epoch 24/25\n",
            "Epoch 25/25\n",
            "2734/2734 [==============================] - 14s 5ms/step\n"
          ]
        },
        {
          "output_type": "stream",
          "name": "stderr",
          "text": [
            "[I 2024-03-06 20:21:17,368] Trial 0 finished with value: 0.0019124780899126641 and parameters: {'time_steps': 6, 'units': 100, 'return_sequences': False, 'optimizer': 'adam', 'epochs': 25, 'batch_size': 16}. Best is trial 0 with value: 0.0019124780899126641.\n"
          ]
        },
        {
          "output_type": "stream",
          "name": "stdout",
          "text": [
            "Trial done: RMSE=0.043731888707357065, MAE=0.024089816103941192, R^2=0.8411712527963783\n",
            "Params: {'time_steps': 6, 'units': 100, 'return_sequences': False, 'optimizer': 'adam', 'epochs': 25, 'batch_size': 16}\n",
            "Epoch 1/38\n",
            "Epoch 2/38\n",
            "Epoch 3/38\n",
            "Epoch 4/38\n",
            "Epoch 5/38\n",
            "Epoch 6/38\n",
            "Epoch 7/38\n",
            "Epoch 8/38\n",
            "Epoch 9/38\n",
            "Epoch 10/38\n",
            "Epoch 11/38\n",
            "Epoch 12/38\n",
            "Epoch 13/38\n",
            "Epoch 14/38\n",
            "Epoch 15/38\n",
            "Epoch 16/38\n",
            "Epoch 17/38\n",
            "Epoch 18/38\n",
            "Epoch 19/38\n",
            "Epoch 20/38\n",
            "Epoch 21/38\n",
            "Epoch 22/38\n",
            "Epoch 23/38\n",
            "Epoch 24/38\n",
            "Epoch 25/38\n",
            "Epoch 26/38\n",
            "Epoch 27/38\n",
            "Epoch 28/38\n",
            "Epoch 29/38\n",
            "Epoch 30/38\n",
            "Epoch 31/38\n",
            "Epoch 32/38\n",
            "Epoch 33/38\n",
            "Epoch 34/38\n",
            "Epoch 35/38\n",
            "Epoch 36/38\n",
            "Epoch 37/38\n",
            "Epoch 38/38\n",
            "2734/2734 [==============================] - 10s 3ms/step\n"
          ]
        },
        {
          "output_type": "stream",
          "name": "stderr",
          "text": [
            "[I 2024-03-06 21:45:54,747] Trial 1 finished with value: 0.003436431166017825 and parameters: {'time_steps': 3, 'units': 150, 'return_sequences': False, 'optimizer': 'adam', 'epochs': 38, 'batch_size': 16}. Best is trial 0 with value: 0.0019124780899126641.\n"
          ]
        },
        {
          "output_type": "stream",
          "name": "stdout",
          "text": [
            "Trial done: RMSE=0.058621081242312696, MAE=0.03217994728995857, R^2=0.7151627994735325\n",
            "Params: {'time_steps': 3, 'units': 150, 'return_sequences': False, 'optimizer': 'adam', 'epochs': 38, 'batch_size': 16}\n",
            "Epoch 1/50\n",
            "Epoch 2/50\n",
            "Epoch 3/50\n",
            "Epoch 4/50\n",
            "Epoch 5/50\n",
            "Epoch 6/50\n",
            "Epoch 7/50\n",
            "Epoch 8/50\n",
            "Epoch 9/50\n",
            "Epoch 10/50\n",
            "Epoch 11/50\n",
            "Epoch 12/50\n",
            "Epoch 13/50\n",
            "Epoch 14/50\n",
            "Epoch 15/50\n",
            "Epoch 16/50\n",
            "Epoch 17/50\n",
            "Epoch 18/50\n",
            "Epoch 19/50\n",
            "Epoch 20/50\n",
            "Epoch 21/50\n",
            "Epoch 22/50\n",
            "Epoch 23/50\n",
            "Epoch 24/50\n",
            "Epoch 25/50\n",
            "Epoch 26/50\n",
            "Epoch 27/50\n",
            "Epoch 28/50\n",
            "Epoch 29/50\n",
            "Epoch 30/50\n",
            "Epoch 31/50\n",
            "Epoch 32/50\n",
            "Epoch 33/50\n",
            "Epoch 34/50\n",
            "Epoch 35/50\n",
            "Epoch 36/50\n",
            "Epoch 37/50\n",
            "Epoch 38/50\n",
            "Epoch 39/50\n",
            "Epoch 40/50\n",
            "Epoch 41/50\n",
            "Epoch 42/50\n",
            "Epoch 43/50\n",
            "Epoch 44/50\n",
            "Epoch 45/50\n",
            "Epoch 46/50\n",
            "Epoch 47/50\n",
            "Epoch 48/50\n",
            "Epoch 49/50\n",
            "Epoch 50/50\n",
            "2734/2734 [==============================] - 15s 5ms/step\n"
          ]
        },
        {
          "output_type": "stream",
          "name": "stderr",
          "text": [
            "[I 2024-03-06 23:04:39,937] Trial 2 finished with value: 0.0030316832461948612 and parameters: {'time_steps': 4, 'units': 150, 'return_sequences': True, 'units_2': 50, 'optimizer': 'rmsprop', 'epochs': 50, 'batch_size': 64}. Best is trial 0 with value: 0.0019124780899126641.\n"
          ]
        },
        {
          "output_type": "stream",
          "name": "stdout",
          "text": [
            "Trial done: RMSE=0.0550607232625477, MAE=0.03172763875357147, R^2=0.7503315421618515\n",
            "Params: {'time_steps': 4, 'units': 150, 'return_sequences': True, 'units_2': 50, 'optimizer': 'rmsprop', 'epochs': 50, 'batch_size': 64}\n",
            "Mejores hiperparámetros: {'time_steps': 6, 'units': 100, 'return_sequences': False, 'optimizer': 'adam', 'epochs': 25, 'batch_size': 16}\n",
            "Mejor resultado: 0.0019124780899126641\n"
          ]
        }
      ],
      "source": [
        "import optuna\n",
        "import numpy as np\n",
        "import pandas as pd\n",
        "from sklearn.preprocessing import MinMaxScaler\n",
        "from sklearn.model_selection import train_test_split\n",
        "from keras.models import Sequential\n",
        "from keras.layers import LSTM, Dense\n",
        "import time\n",
        "import psutil\n",
        "from sklearn.metrics import mean_squared_error\n",
        "from sklearn.metrics import mean_absolute_error, r2_score\n",
        "\n",
        "\n",
        "# Carga de datos\n",
        "url1 = '/content/drive/MyDrive/Reuniones/DatasetsWP2/Dataset1CodificadoV2.csv'\n",
        "data1 = pd.read_csv(url1)\n",
        "data1.drop(['Unnamed: 0'], axis=1, inplace=True)\n",
        "\n",
        "# Preprocesamiento de datos\n",
        "scaler = MinMaxScaler(feature_range=(0, 1))\n",
        "scaled_data = scaler.fit_transform(data1)\n",
        "X = scaled_data[:, data1.columns != 'Inputs']\n",
        "y = scaled_data[:, data1.columns == 'Inputs']\n",
        "\n",
        "# Función para reestructurar los datos para el LSTM\n",
        "def create_dataset(X, y, time_steps=1):\n",
        "    Xs, ys = [], []\n",
        "    for i in range(len(X) - time_steps):\n",
        "        v = X[i:(i + time_steps)]\n",
        "        Xs.append(v)\n",
        "        ys.append(y[i + time_steps])\n",
        "    return np.array(Xs), np.array(ys)\n",
        "\n",
        "# Definición de la función objetivo para Optuna\n",
        "def objective(trial):\n",
        "    time_steps = trial.suggest_int('time_steps', 1, 10)\n",
        "    X_lstm, y_lstm = create_dataset(X, y, time_steps)\n",
        "    X_train, X_test, y_train, y_test = train_test_split(X_lstm, y_lstm, test_size=0.2, random_state=42)\n",
        "\n",
        "    model = Sequential()\n",
        "    model.add(LSTM(units=trial.suggest_categorical('units', [50, 100, 150]),\n",
        "                   return_sequences=trial.suggest_categorical('return_sequences', [True, False]),\n",
        "                   input_shape=(X_train.shape[1], X_train.shape[2])))\n",
        "    if trial.suggest_categorical('return_sequences', [True, False]):\n",
        "        model.add(LSTM(units=trial.suggest_categorical('units_2', [50, 100, 150])))\n",
        "    model.add(Dense(1))\n",
        "    model.compile(loss='mean_squared_error', optimizer=trial.suggest_categorical('optimizer', ['adam', 'rmsprop']))\n",
        "\n",
        "    # Entrenamiento del modelo\n",
        "    model.fit(X_train, y_train, epochs=trial.suggest_int('epochs', 20, 50), batch_size=trial.suggest_categorical('batch_size', [16, 32, 64]), verbose=3)\n",
        "    y_pred = model.predict(X_test)\n",
        "\n",
        "    # Cálculo de métricas\n",
        "    mse = mean_squared_error(y_test, y_pred)\n",
        "    rmse = np.sqrt(mse)  # Cálculo del RMSE\n",
        "    mae = mean_absolute_error(y_test, y_pred)  # Cálculo del MAE\n",
        "    r2 = r2_score(y_test, y_pred)  # Cálculo del R^2\n",
        "\n",
        "    # Mostrar las métricas después de cada trial\n",
        "    print(f'Trial done: RMSE={rmse}, MAE={mae}, R^2={r2}')\n",
        "    print(f'Params: {trial.params}')\n",
        "\n",
        "    return mse\n",
        "\n",
        "# Crear un estudio Optuna y optimizar\n",
        "study = optuna.create_study(direction='minimize')\n",
        "study.optimize(objective, n_trials=3)  # Puedes aumentar n_trials para una búsqueda más exhaustiva\n",
        "\n",
        "# Imprimir los mejores hiperparámetros\n",
        "print('Mejores hiperparámetros:', study.best_trial.params)\n",
        "print('Mejor resultado:', study.best_value)\n",
        "\n",
        "\n",
        "# Puedes construir y evaluar el modelo con los mejores hiperparámetros encontrados\n",
        "# Siguiendo un proceso similar al descrito anteriormente, pero utilizando los hiperparámetros sugeridos por Optuna\n"
      ]
    },
    {
      "cell_type": "code",
      "source": [],
      "metadata": {
        "id": "HxysusJi9bpq"
      },
      "execution_count": null,
      "outputs": []
    }
  ]
}