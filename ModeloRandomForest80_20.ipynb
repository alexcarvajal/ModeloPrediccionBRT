{
  "nbformat": 4,
  "nbformat_minor": 0,
  "metadata": {
    "colab": {
      "provenance": [],
      "mount_file_id": "1tjPHV4WSBrms8D84yVJREDCGXXm7F0WA",
      "authorship_tag": "ABX9TyMf0o6Zy/uXNcFmGu30Y2f2",
      "include_colab_link": true
    },
    "kernelspec": {
      "name": "python3",
      "display_name": "Python 3"
    },
    "language_info": {
      "name": "python"
    }
  },
  "cells": [
    {
      "cell_type": "markdown",
      "metadata": {
        "id": "view-in-github",
        "colab_type": "text"
      },
      "source": [
        "<a href=\"https://colab.research.google.com/github/alexcarvajal/ModeloPrediccionBRT/blob/main/ModeloRandomForest80_20.ipynb\" target=\"_parent\"><img src=\"https://colab.research.google.com/assets/colab-badge.svg\" alt=\"Open In Colab\"/></a>"
      ]
    },
    {
      "cell_type": "code",
      "execution_count": 2,
      "metadata": {
        "colab": {
          "base_uri": "https://localhost:8080/"
        },
        "id": "OfHUul-SEGTa",
        "outputId": "a8bc45ad-75cd-4533-c5ed-9ef83a768c27"
      },
      "outputs": [
        {
          "output_type": "execute_result",
          "data": {
            "text/plain": [
              "['/content/drive/MyDrive/Reuniones/DatasetsWP2/random_forest_model.joblib']"
            ]
          },
          "metadata": {},
          "execution_count": 2
        }
      ],
      "source": [
        "import pandas as pd\n",
        "import numpy as np\n",
        "from sklearn.model_selection import train_test_split\n",
        "from sklearn.ensemble import RandomForestRegressor\n",
        "from sklearn.metrics import mean_squared_error, r2_score, mean_absolute_error\n",
        "from sklearn.metrics import mean_absolute_percentage_error\n",
        "import joblib  # Importar joblib para guardar el modelo\n",
        "\n",
        "url1 = '/content/drive/MyDrive/Reuniones/DatasetsWP2/Dataset1CodificadoV2.csv'\n",
        "data1 = pd.read_csv(url1)\n",
        "# Carga de datos (asegúrate de tener tu DataFrame 'data1' cargado y preparado)\n",
        "data1 = data1.drop(columns=['Unnamed: 0'])  # Asumiendo que 'data' es tu DataFrame original\n",
        "\n",
        "# Definición de características (X) y variable objetivo (y)\n",
        "X = data1.drop(columns=['Inputs'])\n",
        "y = data1['Inputs']\n",
        "\n",
        "# División de datos en entrenamiento y prueba\n",
        "X_train, X_test, y_train, y_test = train_test_split(X, y, test_size=0.2, random_state=42)\n",
        "\n",
        "# Creación y entrenamiento del modelo\n",
        "rf_model = RandomForestRegressor(random_state=42)\n",
        "rf_model.fit(X_train, y_train)\n",
        "\n",
        "# Guardar el modelo entrenado\n",
        "joblib.dump(rf_model, '/content/drive/MyDrive/Reuniones/DatasetsWP2/random_forest_model.joblib')\n"
      ]
    },
    {
      "cell_type": "code",
      "source": [
        "import pandas as pd\n",
        "import joblib  # Para cargar el modelo\n",
        "\n",
        "# Carga del modelo\n",
        "rf_model_loaded = joblib.load('/content/drive/MyDrive/Reuniones/DatasetsWP2/random_forest_model.joblib')\n",
        "data1\n",
        "\n",
        "nuevos_datos = pd.Series([ 12, 1, 2, 0.0, 10, 15, 42, 0.0, 0.0, 1.0, 0.0, 0.0, 0.0, 0.0, 0.0, 0.0, 0.0],\n",
        "                         index=data1.columns.drop(['Inputs']))\n",
        "\n",
        "# Asegúrate de convertir los nuevos datos en un DataFrame que coincida con la forma esperada por el modelo\n",
        "nuevos_datos_df = nuevos_datos.to_frame().transpose()\n",
        "\n",
        "# Realizar predicción\n",
        "prediccion = rf_model_loaded.predict(nuevos_datos_df)\n",
        "\n",
        "print(f\"Predicción para los nuevos datos: {prediccion}\")"
      ],
      "metadata": {
        "colab": {
          "base_uri": "https://localhost:8080/"
        },
        "id": "H5mxQFYWE2fg",
        "outputId": "5508ccfb-169e-4821-c306-09b6eaa10034"
      },
      "execution_count": 3,
      "outputs": [
        {
          "output_type": "stream",
          "name": "stdout",
          "text": [
            "Predicción para los nuevos datos: [6.85416667]\n"
          ]
        }
      ]
    },
    {
      "cell_type": "code",
      "source": [],
      "metadata": {
        "id": "kZf19mXKGIJl"
      },
      "execution_count": null,
      "outputs": []
    }
  ]
}