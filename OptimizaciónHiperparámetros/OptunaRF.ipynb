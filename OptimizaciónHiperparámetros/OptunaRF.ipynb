{
  "nbformat": 4,
  "nbformat_minor": 0,
  "metadata": {
    "colab": {
      "provenance": [],
      "mount_file_id": "1iC2pbB93u5GEhuN8-OxSV4iOT5ocpsIU",
      "authorship_tag": "ABX9TyNECN0wNhTHKFRP8JajK5Rw",
      "include_colab_link": true
    },
    "kernelspec": {
      "name": "python3",
      "display_name": "Python 3"
    },
    "language_info": {
      "name": "python"
    }
  },
  "cells": [
    {
      "cell_type": "markdown",
      "metadata": {
        "id": "view-in-github",
        "colab_type": "text"
      },
      "source": [
        "<a href=\"https://colab.research.google.com/github/alexcarvajal/ModeloPrediccionBRT/blob/main/Optimizaci%C3%B3nHiperpar%C3%A1metros/OptunaRF.ipynb\" target=\"_parent\"><img src=\"https://colab.research.google.com/assets/colab-badge.svg\" alt=\"Open In Colab\"/></a>"
      ]
    },
    {
      "cell_type": "code",
      "source": [
        "!pip install Optuna"
      ],
      "metadata": {
        "colab": {
          "base_uri": "https://localhost:8080/"
        },
        "id": "TWQvUOtV-qOk",
        "outputId": "1e88e018-c1cf-405f-ec59-98763139ae5f"
      },
      "execution_count": 1,
      "outputs": [
        {
          "output_type": "stream",
          "name": "stdout",
          "text": [
            "Collecting Optuna\n",
            "  Downloading optuna-3.6.1-py3-none-any.whl (380 kB)\n",
            "\u001b[2K     \u001b[90m━━━━━━━━━━━━━━━━━━━━━━━━━━━━━━━━━━━━━━━━\u001b[0m \u001b[32m380.1/380.1 kB\u001b[0m \u001b[31m2.3 MB/s\u001b[0m eta \u001b[36m0:00:00\u001b[0m\n",
            "\u001b[?25hCollecting alembic>=1.5.0 (from Optuna)\n",
            "  Downloading alembic-1.13.1-py3-none-any.whl (233 kB)\n",
            "\u001b[2K     \u001b[90m━━━━━━━━━━━━━━━━━━━━━━━━━━━━━━━━━━━━━━━━\u001b[0m \u001b[32m233.4/233.4 kB\u001b[0m \u001b[31m13.5 MB/s\u001b[0m eta \u001b[36m0:00:00\u001b[0m\n",
            "\u001b[?25hCollecting colorlog (from Optuna)\n",
            "  Downloading colorlog-6.8.2-py3-none-any.whl (11 kB)\n",
            "Requirement already satisfied: numpy in /usr/local/lib/python3.10/dist-packages (from Optuna) (1.25.2)\n",
            "Requirement already satisfied: packaging>=20.0 in /usr/local/lib/python3.10/dist-packages (from Optuna) (24.0)\n",
            "Requirement already satisfied: sqlalchemy>=1.3.0 in /usr/local/lib/python3.10/dist-packages (from Optuna) (2.0.29)\n",
            "Requirement already satisfied: tqdm in /usr/local/lib/python3.10/dist-packages (from Optuna) (4.66.2)\n",
            "Requirement already satisfied: PyYAML in /usr/local/lib/python3.10/dist-packages (from Optuna) (6.0.1)\n",
            "Collecting Mako (from alembic>=1.5.0->Optuna)\n",
            "  Downloading Mako-1.3.2-py3-none-any.whl (78 kB)\n",
            "\u001b[2K     \u001b[90m━━━━━━━━━━━━━━━━━━━━━━━━━━━━━━━━━━━━━━━━\u001b[0m \u001b[32m78.7/78.7 kB\u001b[0m \u001b[31m7.4 MB/s\u001b[0m eta \u001b[36m0:00:00\u001b[0m\n",
            "\u001b[?25hRequirement already satisfied: typing-extensions>=4 in /usr/local/lib/python3.10/dist-packages (from alembic>=1.5.0->Optuna) (4.10.0)\n",
            "Requirement already satisfied: greenlet!=0.4.17 in /usr/local/lib/python3.10/dist-packages (from sqlalchemy>=1.3.0->Optuna) (3.0.3)\n",
            "Requirement already satisfied: MarkupSafe>=0.9.2 in /usr/local/lib/python3.10/dist-packages (from Mako->alembic>=1.5.0->Optuna) (2.1.5)\n",
            "Installing collected packages: Mako, colorlog, alembic, Optuna\n",
            "Successfully installed Mako-1.3.2 Optuna-3.6.1 alembic-1.13.1 colorlog-6.8.2\n"
          ]
        }
      ]
    },
    {
      "cell_type": "code",
      "execution_count": 3,
      "metadata": {
        "colab": {
          "base_uri": "https://localhost:8080/"
        },
        "id": "AU9xGFLb-dJt",
        "outputId": "8f42fdf7-a72e-480b-da32-19811d229eea"
      },
      "outputs": [
        {
          "output_type": "stream",
          "name": "stderr",
          "text": [
            "[I 2024-04-01 14:06:50,028] A new study created in memory with name: no-name-0eef89c6-3f42-4215-80ec-85135facc796\n",
            "[I 2024-04-01 14:07:01,418] Trial 0 finished with value: 31.273567182935604 and parameters: {'n_estimators': 133, 'max_depth': 2, 'min_samples_split': 0.2948639223058845, 'min_samples_leaf': 0.31179452931522544}. Best is trial 0 with value: 31.273567182935604.\n",
            "[I 2024-04-01 14:07:09,771] Trial 1 finished with value: 31.545625296652755 and parameters: {'n_estimators': 508, 'max_depth': 12, 'min_samples_split': 0.12255235105172216, 'min_samples_leaf': 0.3350332660013212}. Best is trial 0 with value: 31.273567182935604.\n",
            "[I 2024-04-01 14:07:54,014] Trial 2 finished with value: 29.53378015343369 and parameters: {'n_estimators': 196, 'max_depth': 19, 'min_samples_split': 0.19522792394977756, 'min_samples_leaf': 0.10500877012567784}. Best is trial 2 with value: 29.53378015343369.\n",
            "[I 2024-04-01 14:08:06,942] Trial 3 finished with value: 31.545627652735554 and parameters: {'n_estimators': 822, 'max_depth': 2, 'min_samples_split': 0.9233823859551858, 'min_samples_leaf': 0.4580378155792987}. Best is trial 2 with value: 29.53378015343369.\n",
            "[I 2024-04-01 14:09:40,144] Trial 4 finished with value: 29.69384702962761 and parameters: {'n_estimators': 623, 'max_depth': 6, 'min_samples_split': 0.4386106730191376, 'min_samples_leaf': 0.15192589293800096}. Best is trial 2 with value: 29.53378015343369.\n",
            "[I 2024-04-01 14:09:50,398] Trial 5 finished with value: 31.545622628313136 and parameters: {'n_estimators': 630, 'max_depth': 2, 'min_samples_split': 0.8795558943505692, 'min_samples_leaf': 0.12108914253400363}. Best is trial 2 with value: 29.53378015343369.\n",
            "[I 2024-04-01 14:09:54,301] Trial 6 finished with value: 31.545621995155592 and parameters: {'n_estimators': 262, 'max_depth': 10, 'min_samples_split': 0.9566797341336003, 'min_samples_leaf': 0.3412770993177826}. Best is trial 2 with value: 29.53378015343369.\n",
            "[I 2024-04-01 14:10:06,864] Trial 7 finished with value: 31.545627373791095 and parameters: {'n_estimators': 798, 'max_depth': 10, 'min_samples_split': 0.16694854221055788, 'min_samples_leaf': 0.46965484149852477}. Best is trial 2 with value: 29.53378015343369.\n",
            "[I 2024-04-01 14:10:10,850] Trial 8 finished with value: 31.545620820654776 and parameters: {'n_estimators': 266, 'max_depth': 8, 'min_samples_split': 0.8210507646241544, 'min_samples_leaf': 0.28564929747870216}. Best is trial 2 with value: 29.53378015343369.\n",
            "[I 2024-04-01 14:10:47,725] Trial 9 finished with value: 29.58308505104378 and parameters: {'n_estimators': 240, 'max_depth': 2, 'min_samples_split': 0.1546291168844583, 'min_samples_leaf': 0.12642558715381846}. Best is trial 2 with value: 29.53378015343369.\n",
            "[I 2024-04-01 14:11:03,206] Trial 10 finished with value: 31.545629507446645 and parameters: {'n_estimators': 994, 'max_depth': 32, 'min_samples_split': 0.63944588789503, 'min_samples_leaf': 0.21592962419439066}. Best is trial 2 with value: 29.53378015343369.\n",
            "[I 2024-04-01 14:11:15,770] Trial 11 finished with value: 29.545704325526987 and parameters: {'n_estimators': 76, 'max_depth': 26, 'min_samples_split': 0.3568175762108663, 'min_samples_leaf': 0.10174085690845301}. Best is trial 2 with value: 29.53378015343369.\n",
            "[I 2024-04-01 14:11:17,695] Trial 12 finished with value: 30.081710141657265 and parameters: {'n_estimators': 14, 'max_depth': 30, 'min_samples_split': 0.38555515062654266, 'min_samples_leaf': 0.19938079680643872}. Best is trial 2 with value: 29.53378015343369.\n",
            "[I 2024-04-01 14:11:20,242] Trial 13 finished with value: 29.9337353643406 and parameters: {'n_estimators': 28, 'max_depth': 18, 'min_samples_split': 0.5232443632505194, 'min_samples_leaf': 0.10191496404750812}. Best is trial 2 with value: 29.53378015343369.\n",
            "[I 2024-04-01 14:12:10,542] Trial 14 finished with value: 30.11557333891337 and parameters: {'n_estimators': 392, 'max_depth': 19, 'min_samples_split': 0.301525768339864, 'min_samples_leaf': 0.20269455863394822}. Best is trial 2 with value: 29.53378015343369.\n",
            "[I 2024-04-01 14:12:12,840] Trial 15 finished with value: 31.54562356578788 and parameters: {'n_estimators': 147, 'max_depth': 5, 'min_samples_split': 0.6809685393587126, 'min_samples_leaf': 0.24054563074670215}. Best is trial 2 with value: 29.53378015343369.\n",
            "[I 2024-04-01 14:12:19,926] Trial 16 finished with value: 31.545626146189257 and parameters: {'n_estimators': 408, 'max_depth': 19, 'min_samples_split': 0.27632815823474177, 'min_samples_leaf': 0.3862166106299325}. Best is trial 2 with value: 29.53378015343369.\n",
            "[I 2024-04-01 14:12:38,209] Trial 17 finished with value: 29.786474944687832 and parameters: {'n_estimators': 128, 'max_depth': 14, 'min_samples_split': 0.4377891489005816, 'min_samples_leaf': 0.16183706738120499}. Best is trial 2 with value: 29.53378015343369.\n",
            "[I 2024-04-01 14:13:12,258] Trial 18 finished with value: 30.458076465877376 and parameters: {'n_estimators': 360, 'max_depth': 24, 'min_samples_split': 0.23101897612780048, 'min_samples_leaf': 0.26101769973624117}. Best is trial 2 with value: 29.53378015343369.\n",
            "[I 2024-04-01 14:13:37,129] Trial 19 finished with value: 29.898161135549827 and parameters: {'n_estimators': 170, 'max_depth': 4, 'min_samples_split': 0.37125975554481067, 'min_samples_leaf': 0.17261098397203656}. Best is trial 2 with value: 29.53378015343369.\n",
            "[I 2024-04-01 14:13:38,184] Trial 20 finished with value: 31.54562401475908 and parameters: {'n_estimators': 61, 'max_depth': 15, 'min_samples_split': 0.5475637338938755, 'min_samples_leaf': 0.39975387004244733}. Best is trial 2 with value: 29.53378015343369.\n",
            "[I 2024-04-01 14:14:31,587] Trial 21 finished with value: 29.543301671182462 and parameters: {'n_estimators': 276, 'max_depth': 3, 'min_samples_split': 0.10514353246439487, 'min_samples_leaf': 0.12673680957286587}. Best is trial 2 with value: 29.53378015343369.\n",
            "[I 2024-04-01 14:15:27,506] Trial 22 finished with value: 29.539277862561967 and parameters: {'n_estimators': 288, 'max_depth': 3, 'min_samples_split': 0.10496492503072564, 'min_samples_leaf': 0.10373107172323759}. Best is trial 2 with value: 29.53378015343369.\n",
            "[I 2024-04-01 14:16:25,956] Trial 23 finished with value: 29.673962173793566 and parameters: {'n_estimators': 311, 'max_depth': 3, 'min_samples_split': 0.17637195951078527, 'min_samples_leaf': 0.14687193114564473}. Best is trial 2 with value: 29.53378015343369.\n",
            "[I 2024-04-01 14:17:28,077] Trial 24 finished with value: 29.898170271694553 and parameters: {'n_estimators': 434, 'max_depth': 3, 'min_samples_split': 0.23815586801428618, 'min_samples_leaf': 0.18125999253375022}. Best is trial 2 with value: 29.53378015343369.\n",
            "[I 2024-04-01 14:18:58,609] Trial 25 finished with value: 29.672135175319298 and parameters: {'n_estimators': 484, 'max_depth': 3, 'min_samples_split': 0.10507614011278223, 'min_samples_leaf': 0.1437440186231491}. Best is trial 2 with value: 29.53378015343369.\n",
            "[I 2024-04-01 14:19:18,416] Trial 26 finished with value: 30.141843633384404 and parameters: {'n_estimators': 211, 'max_depth': 4, 'min_samples_split': 0.21951985481055553, 'min_samples_leaf': 0.22425151704165694}. Best is trial 2 with value: 29.53378015343369.\n",
            "[I 2024-04-01 14:20:32,585] Trial 27 finished with value: 29.52795058956553 and parameters: {'n_estimators': 329, 'max_depth': 7, 'min_samples_split': 0.20557538478358234, 'min_samples_leaf': 0.10367827693819726}. Best is trial 27 with value: 29.52795058956553.\n",
            "[I 2024-04-01 14:22:42,154] Trial 28 finished with value: 29.50613547982389 and parameters: {'n_estimators': 567, 'max_depth': 7, 'min_samples_split': 0.18849052080749448, 'min_samples_leaf': 0.10258526322671349}. Best is trial 28 with value: 29.50613547982389.\n",
            "[I 2024-04-01 14:24:11,182] Trial 29 finished with value: 29.89816813476902 and parameters: {'n_estimators': 598, 'max_depth': 7, 'min_samples_split': 0.3245966925785049, 'min_samples_leaf': 0.1820849799598369}. Best is trial 28 with value: 29.50613547982389.\n",
            "[I 2024-04-01 14:25:02,127] Trial 30 finished with value: 30.458073851190658 and parameters: {'n_estimators': 535, 'max_depth': 9, 'min_samples_split': 0.4442497105189761, 'min_samples_leaf': 0.2683249443650513}. Best is trial 28 with value: 29.50613547982389.\n",
            "[I 2024-04-01 14:26:26,566] Trial 31 finished with value: 29.47665147640642 and parameters: {'n_estimators': 353, 'max_depth': 5, 'min_samples_split': 0.20243659517855325, 'min_samples_leaf': 0.1008818968857218}. Best is trial 31 with value: 29.47665147640642.\n",
            "[I 2024-04-01 14:27:34,242] Trial 32 finished with value: 29.671368636638807 and parameters: {'n_estimators': 350, 'max_depth': 6, 'min_samples_split': 0.2635213556602208, 'min_samples_leaf': 0.13710023412856642}. Best is trial 31 with value: 29.47665147640642.\n",
            "[I 2024-04-01 14:30:15,139] Trial 33 finished with value: 29.47564522896846 and parameters: {'n_estimators': 687, 'max_depth': 5, 'min_samples_split': 0.19922062998300125, 'min_samples_leaf': 0.1013675791437452}. Best is trial 33 with value: 29.47564522896846.\n",
            "[I 2024-04-01 14:32:35,372] Trial 34 finished with value: 29.543306679605944 and parameters: {'n_estimators': 714, 'max_depth': 4, 'min_samples_split': 0.19480982022565468, 'min_samples_leaf': 0.1251316163778834}. Best is trial 33 with value: 29.47564522896846.\n",
            "[I 2024-04-01 14:34:27,663] Trial 35 finished with value: 29.786462788990324 and parameters: {'n_estimators': 719, 'max_depth': 5, 'min_samples_split': 0.3123993743508508, 'min_samples_leaf': 0.15833774109427437}. Best is trial 33 with value: 29.47564522896846.\n",
            "[I 2024-04-01 14:34:36,089] Trial 36 finished with value: 31.545624522955045 and parameters: {'n_estimators': 529, 'max_depth': 6, 'min_samples_split': 0.16049720344689117, 'min_samples_leaf': 0.3188827296283314}. Best is trial 33 with value: 29.47564522896846.\n",
            "[I 2024-04-01 14:34:43,772] Trial 37 finished with value: 31.54562536056018 and parameters: {'n_estimators': 477, 'max_depth': 5, 'min_samples_split': 0.2646096515626674, 'min_samples_leaf': 0.49402751593252353}. Best is trial 33 with value: 29.47564522896846.\n",
            "[I 2024-04-01 14:35:38,727] Trial 38 finished with value: 29.933712233161266 and parameters: {'n_estimators': 575, 'max_depth': 7, 'min_samples_split': 0.48813635339506756, 'min_samples_leaf': 0.118296176778788}. Best is trial 33 with value: 29.47564522896846.\n",
            "[I 2024-04-01 14:37:21,333] Trial 39 finished with value: 29.786462050883983 and parameters: {'n_estimators': 693, 'max_depth': 12, 'min_samples_split': 0.20375636964350421, 'min_samples_leaf': 0.15983451119035885}. Best is trial 33 with value: 29.47564522896846.\n",
            "[I 2024-04-01 14:37:34,608] Trial 40 finished with value: 31.545627274113226 and parameters: {'n_estimators': 833, 'max_depth': 8, 'min_samples_split': 0.6997892703784776, 'min_samples_leaf': 0.18786996656674226}. Best is trial 33 with value: 29.47564522896846.\n",
            "[I 2024-04-01 14:40:04,965] Trial 41 finished with value: 29.542345220891384 and parameters: {'n_estimators': 657, 'max_depth': 10, 'min_samples_split': 0.17447469737946875, 'min_samples_leaf': 0.111422045213816}. Best is trial 33 with value: 29.47564522896846.\n",
            "[I 2024-04-01 14:42:36,528] Trial 42 finished with value: 29.54413331346533 and parameters: {'n_estimators': 775, 'max_depth': 5, 'min_samples_split': 0.1372252148617183, 'min_samples_leaf': 0.1338686071240286}. Best is trial 33 with value: 29.47564522896846.\n",
            "[I 2024-04-01 14:43:21,540] Trial 43 finished with value: 29.522138930152177 and parameters: {'n_estimators': 209, 'max_depth': 6, 'min_samples_split': 0.23578132085173198, 'min_samples_leaf': 0.10314423426964853}. Best is trial 33 with value: 29.47564522896846.\n",
            "[I 2024-04-01 14:45:33,197] Trial 44 finished with value: 29.693855853238063 and parameters: {'n_estimators': 870, 'max_depth': 8, 'min_samples_split': 0.3407361815711401, 'min_samples_leaf': 0.14357852556652262}. Best is trial 33 with value: 29.47564522896846.\n",
            "[I 2024-04-01 14:47:02,018] Trial 45 finished with value: 29.539286552549594 and parameters: {'n_estimators': 443, 'max_depth': 6, 'min_samples_split': 0.24367508604853164, 'min_samples_leaf': 0.10367969766231479}. Best is trial 33 with value: 29.47564522896846.\n",
            "[I 2024-04-01 14:48:08,768] Trial 46 finished with value: 29.54283498905778 and parameters: {'n_estimators': 336, 'max_depth': 4, 'min_samples_split': 0.2809646822573142, 'min_samples_leaf': 0.12350831443372726}. Best is trial 33 with value: 29.47564522896846.\n",
            "[I 2024-04-01 14:49:02,468] Trial 47 finished with value: 29.475931878140372 and parameters: {'n_estimators': 229, 'max_depth': 7, 'min_samples_split': 0.13879867929071643, 'min_samples_leaf': 0.10033061257972178}. Best is trial 33 with value: 29.47564522896846.\n",
            "[I 2024-04-01 14:49:05,920] Trial 48 finished with value: 31.545625601268426 and parameters: {'n_estimators': 223, 'max_depth': 12, 'min_samples_split': 0.1390969982053621, 'min_samples_leaf': 0.3844257104341493}. Best is trial 33 with value: 29.47564522896846.\n",
            "[I 2024-04-01 14:49:21,895] Trial 49 finished with value: 29.786473238684426 and parameters: {'n_estimators': 106, 'max_depth': 9, 'min_samples_split': 0.40428921433913556, 'min_samples_leaf': 0.16363776557704124}. Best is trial 33 with value: 29.47564522896846.\n",
            "[I 2024-04-01 14:49:25,639] Trial 50 finished with value: 31.545620479074625 and parameters: {'n_estimators': 190, 'max_depth': 5, 'min_samples_split': 0.8247419922411506, 'min_samples_leaf': 0.13642671191851716}. Best is trial 33 with value: 29.47564522896846.\n",
            "[I 2024-04-01 14:50:22,741] Trial 51 finished with value: 29.475923267066857 and parameters: {'n_estimators': 250, 'max_depth': 7, 'min_samples_split': 0.18474099630658034, 'min_samples_leaf': 0.10130484726128816}. Best is trial 33 with value: 29.47564522896846.\n",
            "[I 2024-04-01 14:51:10,690] Trial 52 finished with value: 29.542317547741977 and parameters: {'n_estimators': 240, 'max_depth': 6, 'min_samples_split': 0.14214450271096335, 'min_samples_leaf': 0.11486230037050979}. Best is trial 33 with value: 29.47564522896846.\n",
            "[I 2024-04-01 14:51:40,747] Trial 53 finished with value: 29.542252339690197 and parameters: {'n_estimators': 147, 'max_depth': 8, 'min_samples_split': 0.18982178257327864, 'min_samples_leaf': 0.11978027794948898}. Best is trial 33 with value: 29.47564522896846.\n",
            "[I 2024-04-01 14:52:15,667] Trial 54 finished with value: 29.933713131196708 and parameters: {'n_estimators': 381, 'max_depth': 10, 'min_samples_split': 0.6144411568891298, 'min_samples_leaf': 0.15063303144950085}. Best is trial 33 with value: 29.47564522896846.\n",
            "[I 2024-04-01 14:53:24,223] Trial 55 finished with value: 29.478142629661896 and parameters: {'n_estimators': 296, 'max_depth': 7, 'min_samples_split': 0.15351329640487954, 'min_samples_leaf': 0.10056199620538545}. Best is trial 33 with value: 29.47564522896846.\n",
            "[I 2024-04-01 14:55:17,382] Trial 56 finished with value: 29.54493933641221 and parameters: {'n_estimators': 574, 'max_depth': 7, 'min_samples_split': 0.14095335200589282, 'min_samples_leaf': 0.13430806613011503}. Best is trial 33 with value: 29.47564522896846.\n",
            "[I 2024-04-01 14:55:56,567] Trial 57 finished with value: 30.081006633614123 and parameters: {'n_estimators': 289, 'max_depth': 9, 'min_samples_split': 0.29715489148227076, 'min_samples_leaf': 0.2017282718436282}. Best is trial 33 with value: 29.47564522896846.\n",
            "[I 2024-04-01 14:57:36,285] Trial 58 finished with value: 29.476291403602946 and parameters: {'n_estimators': 428, 'max_depth': 12, 'min_samples_split': 0.17083390308494925, 'min_samples_leaf': 0.10040983902359764}. Best is trial 33 with value: 29.47564522896846.\n",
            "[I 2024-04-01 14:59:01,224] Trial 59 finished with value: 29.54213400361085 and parameters: {'n_estimators': 431, 'max_depth': 12, 'min_samples_split': 0.10426033911197595, 'min_samples_leaf': 0.12022793384624626}. Best is trial 33 with value: 29.47564522896846.\n",
            "[I 2024-04-01 15:01:26,216] Trial 60 finished with value: 29.898184044622344 and parameters: {'n_estimators': 996, 'max_depth': 14, 'min_samples_split': 0.22415322260127937, 'min_samples_leaf': 0.17114620044523063}. Best is trial 33 with value: 29.47564522896846.\n",
            "[I 2024-04-01 15:02:52,616] Trial 61 finished with value: 29.4766389156965 and parameters: {'n_estimators': 375, 'max_depth': 5, 'min_samples_split': 0.16602320893275188, 'min_samples_leaf': 0.1002260783339377}. Best is trial 33 with value: 29.47564522896846.\n",
            "[I 2024-04-01 15:04:22,185] Trial 62 finished with value: 29.476632494109637 and parameters: {'n_estimators': 397, 'max_depth': 5, 'min_samples_split': 0.16478028249143745, 'min_samples_leaf': 0.10002431538463863}. Best is trial 33 with value: 29.47564522896846.\n",
            "[I 2024-04-01 15:05:33,718] Trial 63 finished with value: 29.54235295151615 and parameters: {'n_estimators': 364, 'max_depth': 4, 'min_samples_split': 0.1673050551434545, 'min_samples_leaf': 0.11614314269149222}. Best is trial 33 with value: 29.47564522896846.\n",
            "[I 2024-04-01 15:06:49,035] Trial 64 finished with value: 29.673960414239424 and parameters: {'n_estimators': 402, 'max_depth': 17, 'min_samples_split': 0.25940754884882544, 'min_samples_leaf': 0.14852371262212385}. Best is trial 33 with value: 29.47564522896846.\n",
            "[I 2024-04-01 15:07:39,520] Trial 65 finished with value: 29.544298087749823 and parameters: {'n_estimators': 255, 'max_depth': 5, 'min_samples_split': 0.12893821753339244, 'min_samples_leaf': 0.1283202178049334}. Best is trial 33 with value: 29.47564522896846.\n",
            "[I 2024-04-01 15:07:47,702] Trial 66 finished with value: 31.545625978676206 and parameters: {'n_estimators': 481, 'max_depth': 4, 'min_samples_split': 0.21084992314244555, 'min_samples_leaf': 0.42574181459072313}. Best is trial 33 with value: 29.47564522896846.\n",
            "[I 2024-04-01 15:10:50,852] Trial 67 finished with value: 29.542276617208113 and parameters: {'n_estimators': 937, 'max_depth': 5, 'min_samples_split': 0.1785569073459115, 'min_samples_leaf': 0.11468823295025106}. Best is trial 33 with value: 29.47564522896846.\n",
            "[I 2024-04-01 15:11:54,046] Trial 68 finished with value: 29.544009020835198 and parameters: {'n_estimators': 319, 'max_depth': 6, 'min_samples_split': 0.12418641505460479, 'min_samples_leaf': 0.13286036860075506}. Best is trial 33 with value: 29.47564522896846.\n",
            "[I 2024-04-01 15:12:01,506] Trial 69 finished with value: 31.545625574582253 and parameters: {'n_estimators': 441, 'max_depth': 22, 'min_samples_split': 0.9850741035796636, 'min_samples_leaf': 0.143821698232524}. Best is trial 33 with value: 29.47564522896846.\n",
            "[I 2024-04-01 15:12:35,623] Trial 70 finished with value: 30.140159600768452 and parameters: {'n_estimators': 377, 'max_depth': 11, 'min_samples_split': 0.3376429471204624, 'min_samples_leaf': 0.220028655807697}. Best is trial 33 with value: 29.47564522896846.\n",
            "[I 2024-04-01 15:13:41,172] Trial 71 finished with value: 29.54061995341746 and parameters: {'n_estimators': 299, 'max_depth': 8, 'min_samples_split': 0.15344349563886642, 'min_samples_leaf': 0.11096289745553177}. Best is trial 33 with value: 29.47564522896846.\n",
            "[I 2024-04-01 15:15:14,268] Trial 72 finished with value: 29.476420556841177 and parameters: {'n_estimators': 414, 'max_depth': 6, 'min_samples_split': 0.2079591934202314, 'min_samples_leaf': 0.1016212500813573}. Best is trial 33 with value: 29.47564522896846.\n",
            "[I 2024-04-01 15:16:33,988] Trial 73 finished with value: 29.542455901830753 and parameters: {'n_estimators': 409, 'max_depth': 6, 'min_samples_split': 0.24343286189771873, 'min_samples_leaf': 0.11269467790245291}. Best is trial 33 with value: 29.47564522896846.\n",
            "[I 2024-04-01 15:18:11,736] Trial 74 finished with value: 29.543295077048736 and parameters: {'n_estimators': 510, 'max_depth': 5, 'min_samples_split': 0.20962641670930843, 'min_samples_leaf': 0.1246785204921714}. Best is trial 33 with value: 29.47564522896846.\n",
            "[I 2024-04-01 15:19:18,742] Trial 75 finished with value: 29.539287228667156 and parameters: {'n_estimators': 347, 'max_depth': 14, 'min_samples_split': 0.287374140430624, 'min_samples_leaf': 0.10338501744361171}. Best is trial 33 with value: 29.47564522896846.\n",
            "[I 2024-04-01 15:20:41,671] Trial 76 finished with value: 29.69403798893295 and parameters: {'n_estimators': 460, 'max_depth': 11, 'min_samples_split': 0.1787544890971769, 'min_samples_leaf': 0.15311416703919922}. Best is trial 33 with value: 29.47564522896846.\n",
            "[I 2024-04-01 15:21:30,894] Trial 77 finished with value: 29.671366961999805 and parameters: {'n_estimators': 265, 'max_depth': 9, 'min_samples_split': 0.116118480316592, 'min_samples_leaf': 0.1377391640496619}. Best is trial 33 with value: 29.47564522896846.\n",
            "[I 2024-04-01 15:22:29,674] Trial 78 finished with value: 29.898172803658582 and parameters: {'n_estimators': 412, 'max_depth': 4, 'min_samples_split': 0.2523070620625043, 'min_samples_leaf': 0.1721389463833558}. Best is trial 33 with value: 29.47564522896846.\n",
            "[I 2024-04-01 15:22:38,371] Trial 79 finished with value: 31.54562477253872 and parameters: {'n_estimators': 516, 'max_depth': 27, 'min_samples_split': 0.22031338766818548, 'min_samples_leaf': 0.36249545104772196}. Best is trial 33 with value: 29.47564522896846.\n",
            "[I 2024-04-01 15:23:49,189] Trial 80 finished with value: 29.54330506708173 and parameters: {'n_estimators': 371, 'max_depth': 8, 'min_samples_split': 0.19591520088680503, 'min_samples_leaf': 0.12666755888001813}. Best is trial 33 with value: 29.47564522896846.\n",
            "[I 2024-04-01 15:24:30,522] Trial 81 finished with value: 29.474757756092124 and parameters: {'n_estimators': 185, 'max_depth': 7, 'min_samples_split': 0.1601433953308239, 'min_samples_leaf': 0.10123129619890939}. Best is trial 81 with value: 29.474757756092124.\n",
            "[I 2024-04-01 15:25:09,570] Trial 82 finished with value: 29.472657636039273 and parameters: {'n_estimators': 172, 'max_depth': 6, 'min_samples_split': 0.16477496358818214, 'min_samples_leaf': 0.10079607734371651}. Best is trial 82 with value: 29.472657636039273.\n",
            "[I 2024-04-01 15:25:46,208] Trial 83 finished with value: 29.54248454553824 and parameters: {'n_estimators': 166, 'max_depth': 7, 'min_samples_split': 0.10163993193357197, 'min_samples_leaf': 0.11161498012276495}. Best is trial 82 with value: 29.472657636039273.\n",
            "[I 2024-04-01 15:26:07,807] Trial 84 finished with value: 29.542140260377934 and parameters: {'n_estimators': 110, 'max_depth': 6, 'min_samples_split': 0.1674757364620652, 'min_samples_leaf': 0.11453233527111352}. Best is trial 82 with value: 29.472657636039273.\n",
            "[I 2024-04-01 15:26:13,152] Trial 85 finished with value: 30.57588113980874 and parameters: {'n_estimators': 61, 'max_depth': 7, 'min_samples_split': 0.12890901804984037, 'min_samples_leaf': 0.30342337214914494}. Best is trial 82 with value: 29.472657636039273.\n",
            "[I 2024-04-01 15:26:52,910] Trial 86 finished with value: 29.473600975874195 and parameters: {'n_estimators': 176, 'max_depth': 6, 'min_samples_split': 0.15962530082093554, 'min_samples_leaf': 0.10172450602358937}. Best is trial 82 with value: 29.472657636039273.\n",
            "[I 2024-04-01 15:27:31,205] Trial 87 finished with value: 29.54328380587507 and parameters: {'n_estimators': 197, 'max_depth': 8, 'min_samples_split': 0.15045113222718207, 'min_samples_leaf': 0.1268808155130986}. Best is trial 82 with value: 29.472657636039273.\n",
            "[I 2024-04-01 15:28:02,090] Trial 88 finished with value: 29.67214259483496 and parameters: {'n_estimators': 166, 'max_depth': 6, 'min_samples_split': 0.18890240594894864, 'min_samples_leaf': 0.1416964208261205}. Best is trial 82 with value: 29.472657636039273.\n",
            "[I 2024-04-01 15:28:55,412] Trial 89 finished with value: 29.536434009166562 and parameters: {'n_estimators': 239, 'max_depth': 9, 'min_samples_split': 0.22046963182222545, 'min_samples_leaf': 0.10935519532653104}. Best is trial 82 with value: 29.472657636039273.\n",
            "[I 2024-04-01 15:29:14,941] Trial 90 finished with value: 29.542841262037566 and parameters: {'n_estimators': 100, 'max_depth': 16, 'min_samples_split': 0.12263324406184062, 'min_samples_leaf': 0.12349306723809138}. Best is trial 82 with value: 29.472657636039273.\n",
            "[I 2024-04-01 15:29:48,105] Trial 91 finished with value: 29.46960940466909 and parameters: {'n_estimators': 144, 'max_depth': 6, 'min_samples_split': 0.1516617336235904, 'min_samples_leaf': 0.10015065113480498}. Best is trial 91 with value: 29.46960940466909.\n",
            "[I 2024-04-01 15:30:18,318] Trial 92 finished with value: 29.47108430087637 and parameters: {'n_estimators': 133, 'max_depth': 6, 'min_samples_split': 0.15585483658133464, 'min_samples_leaf': 0.10070219593019711}. Best is trial 91 with value: 29.46960940466909.\n",
            "[I 2024-04-01 15:30:27,751] Trial 93 finished with value: 29.53663859441479 and parameters: {'n_estimators': 40, 'max_depth': 7, 'min_samples_split': 0.19296889643923126, 'min_samples_leaf': 0.11035457520468313}. Best is trial 91 with value: 29.46960940466909.\n",
            "[I 2024-04-01 15:30:40,274] Trial 94 finished with value: 30.326280996540405 and parameters: {'n_estimators': 136, 'max_depth': 21, 'min_samples_split': 0.2674837027501177, 'min_samples_leaf': 0.25340643926444606}. Best is trial 91 with value: 29.46960940466909.\n",
            "[I 2024-04-01 15:30:56,168] Trial 95 finished with value: 29.542171238556023 and parameters: {'n_estimators': 83, 'max_depth': 13, 'min_samples_split': 0.23134341530897728, 'min_samples_leaf': 0.12007215390796006}. Best is trial 91 with value: 29.46960940466909.\n",
            "[I 2024-04-01 15:31:31,761] Trial 96 finished with value: 29.544216081982615 and parameters: {'n_estimators': 179, 'max_depth': 6, 'min_samples_split': 0.1459463930904714, 'min_samples_leaf': 0.13255405872509438}. Best is trial 91 with value: 29.46960940466909.\n",
            "[I 2024-04-01 15:32:21,128] Trial 97 finished with value: 29.536412323623022 and parameters: {'n_estimators': 225, 'max_depth': 10, 'min_samples_split': 0.12357610922163752, 'min_samples_leaf': 0.10911882875609265}. Best is trial 91 with value: 29.46960940466909.\n",
            "[I 2024-04-01 15:32:24,389] Trial 98 finished with value: 31.545623999982585 and parameters: {'n_estimators': 150, 'max_depth': 8, 'min_samples_split': 0.7437095077676805, 'min_samples_leaf': 0.1563857667407231}. Best is trial 91 with value: 29.46960940466909.\n",
            "[I 2024-04-01 15:32:52,367] Trial 99 finished with value: 29.475515214004748 and parameters: {'n_estimators': 120, 'max_depth': 7, 'min_samples_split': 0.10056732309829397, 'min_samples_leaf': 0.10038826375144855}. Best is trial 91 with value: 29.46960940466909.\n"
          ]
        },
        {
          "output_type": "stream",
          "name": "stdout",
          "text": [
            "Mejores hiperparámetros: {'n_estimators': 144, 'max_depth': 6, 'min_samples_split': 0.1516617336235904, 'min_samples_leaf': 0.10015065113480498}\n",
            "Mejor resultado: 29.46960940466909\n",
            "Memory usage: 362.1796875 megabytes\n",
            "Tiempo de ejecución: 86:04\n"
          ]
        }
      ],
      "source": [
        "import numpy as np\n",
        "import pandas as pd\n",
        "import optuna\n",
        "from sklearn.model_selection import train_test_split\n",
        "from sklearn.ensemble import RandomForestRegressor\n",
        "from sklearn.metrics import mean_squared_error, mean_absolute_error, r2_score, mean_absolute_percentage_error\n",
        "import psutil\n",
        "import time\n",
        "start_time = time.time()\n",
        "\n",
        "# Carga de datos\n",
        "url1 = '/content/drive/MyDrive/Reuniones/DatasetsWP2/Dataset1CodificadoV2.csv'\n",
        "data1 = pd.read_csv(url1)\n",
        "data1.drop(['Unnamed: 0'], axis=1, inplace=True)\n",
        "X = data1.drop(columns=['Inputs'])\n",
        "y = data1['Inputs']\n",
        "\n",
        "def objective(trial):\n",
        "    X_train, X_test, y_train, y_test = train_test_split(X, y, test_size=0.2, random_state=42)\n",
        "\n",
        "    n_estimators = trial.suggest_int('n_estimators', 10, 1000)\n",
        "    max_depth = trial.suggest_int('max_depth', 2, 32, log=True)\n",
        "    min_samples_split = trial.suggest_float('min_samples_split', 0.1, 1.0)\n",
        "    min_samples_leaf = trial.suggest_float('min_samples_leaf', 0.1, 0.5)\n",
        "\n",
        "\n",
        "    model = RandomForestRegressor(\n",
        "        n_estimators=n_estimators,\n",
        "        max_depth=max_depth,\n",
        "        min_samples_split=min_samples_split,\n",
        "        min_samples_leaf=min_samples_leaf,\n",
        "        random_state=42\n",
        "    )\n",
        "    model.fit(X_train, y_train)\n",
        "\n",
        "    # Predicciones y evaluación\n",
        "    y_pred = model.predict(X_test)\n",
        "    mse = mean_squared_error(y_test, y_pred)\n",
        "    rmse = np.sqrt(mse)\n",
        "\n",
        "    return rmse\n",
        "\n",
        "study = optuna.create_study(direction='minimize')\n",
        "study.optimize(objective, n_trials=100)\n",
        "\n",
        "# Imprimir los mejores hiperparámetros\n",
        "print('Mejores hiperparámetros:', study.best_trial.params)\n",
        "print('Mejor resultado:', study.best_value)\n",
        "\n",
        "\n",
        "process = psutil.Process()\n",
        "print(f\"Memory usage: {process.memory_info().rss / (1024 * 1024)} megabytes\")\n",
        "\n",
        "end_time = time.time()\n",
        "execution_time = end_time - start_time\n",
        "\n",
        "# Calcular minutos y segundos\n",
        "minutes = int(execution_time // 60)\n",
        "seconds = int(execution_time % 60)\n",
        "\n",
        "# Formatear y mostrar el tiempo de ejecución\n",
        "print(f\"Tiempo de ejecución: {minutes:02d}:{seconds:02d}\")\n",
        "\n"
      ]
    },
    {
      "cell_type": "code",
      "source": [],
      "metadata": {
        "id": "cG8yqDFY-3B3"
      },
      "execution_count": null,
      "outputs": []
    }
  ]
}