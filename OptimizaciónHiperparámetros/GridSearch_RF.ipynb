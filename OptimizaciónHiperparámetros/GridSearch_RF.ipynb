{
  "cells": [
    {
      "cell_type": "markdown",
      "metadata": {
        "id": "view-in-github",
        "colab_type": "text"
      },
      "source": [
        "<a href=\"https://colab.research.google.com/github/alexcarvajal/ModeloPrediccionBRT/blob/main/Optimizaci%C3%B3nHiperpar%C3%A1metros/GridSearch_RF.ipynb\" target=\"_parent\"><img src=\"https://colab.research.google.com/assets/colab-badge.svg\" alt=\"Open In Colab\"/></a>"
      ]
    },
    {
      "cell_type": "code",
      "execution_count": 1,
      "metadata": {
        "colab": {
          "base_uri": "https://localhost:8080/"
        },
        "id": "T8LJ6VrcNOW9",
        "outputId": "9a0a4e1b-4547-4cea-d34e-69b975d228f8"
      },
      "outputs": [
        {
          "output_type": "stream",
          "name": "stdout",
          "text": [
            "Fitting 3 folds for each of 24 candidates, totalling 72 fits\n"
          ]
        },
        {
          "output_type": "stream",
          "name": "stderr",
          "text": [
            "/usr/local/lib/python3.10/dist-packages/joblib/externals/loky/process_executor.py:752: UserWarning: A worker stopped while some jobs were given to the executor. This can be caused by a too short worker timeout or by a memory leak.\n",
            "  warnings.warn(\n"
          ]
        },
        {
          "output_type": "stream",
          "name": "stdout",
          "text": [
            "Mejores parámetros: {'max_depth': None, 'min_samples_leaf': 1, 'min_samples_split': 5, 'n_estimators': 200}\n",
            "RMSE: 19.891885056029867\n",
            "MSE: 395.6870910823044\n",
            "R^2: 0.6023727051202523\n",
            "R^2 ajustado: 0.6022908775798052\n",
            "MAPE: 7170041164476365.0\n",
            "MAE: 11.33250935801404\n",
            "Memory usage: 2523.2265625 megabytes\n",
            "Tiempo de ejecución: 180:25\n"
          ]
        }
      ],
      "source": [
        "import pandas as pd\n",
        "import numpy as np\n",
        "from sklearn.model_selection import train_test_split\n",
        "from sklearn.ensemble import RandomForestRegressor\n",
        "from sklearn.metrics import mean_squared_error, r2_score,mean_absolute_percentage_error,mean_absolute_error\n",
        "import matplotlib.pyplot as plt\n",
        "import time\n",
        "import os, psutil\n",
        "from sklearn.model_selection import train_test_split, GridSearchCV\n",
        "\n",
        "start_time = time.time()\n",
        "url1 = '/content/drive/MyDrive/Reuniones/DatasetsWP2/Dataset1CodificadoV2.csv'\n",
        "data1 = pd.read_csv(url1)\n",
        "data1\n",
        "\n",
        "# Definiendo las características (X) y la variable objetivo (y)\n",
        "X = data1.drop(columns=['Inputs'])\n",
        "y = data1['Inputs']\n",
        "\n",
        "# Dividiendo los datos\n",
        "X_train, X_test, y_train, y_test = train_test_split(X, y, test_size=0.2, random_state=42)\n",
        "\n",
        "# Creando el modelo y Grid Search\n",
        "rf_model = RandomForestRegressor(random_state=42)\n",
        "param_grid = {\n",
        "    'n_estimators': [100, 200],\n",
        "    'max_depth': [None, 10, 20],\n",
        "    'min_samples_split': [2, 5],\n",
        "    'min_samples_leaf': [1, 2]\n",
        "}\n",
        "\n",
        "grid_search = GridSearchCV(estimator=rf_model, param_grid=param_grid, cv=3, n_jobs=-1, verbose=2)\n",
        "\n",
        "# Entrenando el modelo con Grid Search\n",
        "grid_search.fit(X_train, y_train)\n",
        "\n",
        "# Mejores parámetros\n",
        "print(\"Mejores parámetros:\", grid_search.best_params_)\n",
        "\n",
        "# Predicciones\n",
        "y_pred = grid_search.predict(X_test)\n",
        "\n",
        "# Métricas\n",
        "mse = mean_squared_error(y_test, y_pred)\n",
        "rmse = np.sqrt(mse)\n",
        "r2 = r2_score(y_test, y_pred)\n",
        "mape = mean_absolute_percentage_error(y_test, y_pred)\n",
        "mae = mean_absolute_error(y_test, y_pred)\n",
        "r2_adjusted = 1 - (1-r2)*(len(y_test)-1)/(len(y_test)-X_test.shape[1]-1)\n",
        "\n",
        "print(f'RMSE: {rmse}')\n",
        "print(f'MSE: {mse}')\n",
        "print(f'R^2: {r2}')\n",
        "print(f'R^2 ajustado: {r2_adjusted}')\n",
        "print(f'MAPE: {mape}')\n",
        "print(f'MAE: {mae}')\n",
        "\n",
        "# Uso de memoria\n",
        "process = psutil.Process()\n",
        "print(f\"Memory usage: {process.memory_info().rss / (1024 * 1024)} megabytes\")\n",
        "\n",
        "end_time = time.time()\n",
        "execution_time = end_time - start_time\n",
        "minutes = int(execution_time // 60)\n",
        "seconds = int(execution_time % 60)\n",
        "print(f\"Tiempo de ejecución: {minutes:02d}:{seconds:02d}\")"
      ]
    }
  ],
  "metadata": {
    "colab": {
      "provenance": [],
      "mount_file_id": "19zC75uVgkJTGwCejvLbUqkT-Bt4gvEp9",
      "authorship_tag": "ABX9TyNWrLr9TSxsp4Q9xKbr6sgx",
      "include_colab_link": true
    },
    "kernelspec": {
      "display_name": "Python 3",
      "name": "python3"
    },
    "language_info": {
      "name": "python"
    }
  },
  "nbformat": 4,
  "nbformat_minor": 0
}