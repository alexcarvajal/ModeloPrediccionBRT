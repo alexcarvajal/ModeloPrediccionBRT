{
  "nbformat": 4,
  "nbformat_minor": 0,
  "metadata": {
    "colab": {
      "provenance": [],
      "authorship_tag": "ABX9TyMMXNCtQx64qWEm2WwhJW6j",
      "include_colab_link": true
    },
    "kernelspec": {
      "name": "python3",
      "display_name": "Python 3"
    },
    "language_info": {
      "name": "python"
    }
  },
  "cells": [
    {
      "cell_type": "markdown",
      "metadata": {
        "id": "view-in-github",
        "colab_type": "text"
      },
      "source": [
        "<a href=\"https://colab.research.google.com/github/alexcarvajal/ModeloPrediccionBRT/blob/main/Generaci%C3%B3nModeloDatasetTool.ipynb\" target=\"_parent\"><img src=\"https://colab.research.google.com/assets/colab-badge.svg\" alt=\"Open In Colab\"/></a>"
      ]
    },
    {
      "cell_type": "code",
      "execution_count": null,
      "metadata": {
        "id": "z21_kxaHoC_V"
      },
      "outputs": [],
      "source": [
        "import numpy as np\n",
        "import pandas as pd\n",
        "from sklearn.preprocessing import MinMaxScaler\n",
        "from sklearn.model_selection import train_test_split\n",
        "from keras.models import Sequential\n",
        "from keras.layers import LSTM, Dense\n",
        "import joblib\n",
        "import time\n",
        "import psutil\n",
        "\n",
        "\n",
        "data1 = pd.read_csv('datasetTool1mes.csv')\n",
        "\n",
        "# Preprocesamiento de datos\n",
        "scaler_X = MinMaxScaler(feature_range=(0, 1))\n",
        "scaler_y = MinMaxScaler(feature_range=(0, 1))\n",
        "\n",
        "X = data1.drop(columns=['Inputs']).values\n",
        "y = data1['Inputs'].values\n",
        "\n",
        "X_scaled = scaler_X.fit_transform(X)\n",
        "y_scaled = scaler_y.fit_transform(y.reshape(-1, 1))\n",
        "\n",
        "# Función para reestructurar los datos para el LSTM\n",
        "def create_dataset(X, y, time_steps=1):\n",
        "    Xs, ys = [], []\n",
        "    for i in range(len(X) - time_steps):\n",
        "        v = X[i:(i + time_steps)]\n",
        "        Xs.append(v)\n",
        "        ys.append(y[i + time_steps])\n",
        "    return np.array(Xs), np.array(ys)\n",
        "\n",
        "# Aplicando la función create_dataset con los time_steps optimizados\n",
        "time_steps = 9\n",
        "X_lstm, y_lstm = create_dataset(X_scaled, y_scaled, time_steps=time_steps)\n",
        "\n",
        "# División en conjuntos de entrenamiento y prueba\n",
        "X_train, X_test, y_train, y_test = train_test_split(X_lstm, y_lstm, test_size=0.2, random_state=42)\n",
        "\n",
        "model = Sequential()\n",
        "model.add(LSTM(units=50, return_sequences=True, input_shape=(X_train.shape[1], X_train.shape[2])))\n",
        "model.add(LSTM(units=100))\n",
        "model.add(Dense(1))\n",
        "\n",
        "model.compile(loss='mean_squared_error', optimizer='adam')\n",
        "\n",
        "# Entrenamiento del modelo\n",
        "model.fit(X_train, y_train, epochs=20, batch_size=32, verbose=2)\n",
        "\n",
        "# Guardar el modelo y los escaladores\n",
        "model.save('modelo_entrenado.h5')\n",
        "joblib.dump(scaler_X, 'scaler_X.pkl')\n",
        "joblib.dump(scaler_y, 'scaler_y.pkl')\n",
        "\n",
        "process = psutil.Process()\n",
        "print(f\"Memory usage: {process.memory_info().rss / (1024 * 1024)} megabytes\")\n",
        "\n",
        "end_time = time.time()\n",
        "execution_time = end_time - start_time\n",
        "\n",
        "# Calcular minutos y segundos\n",
        "minutes = int(execution_time // 60)\n",
        "seconds = int(execution_time % 60)\n",
        "\n",
        "# Formatear y mostrar el tiempo de ejecución\n",
        "print(f\"Tiempo de ejecución: {minutes:02d}:{seconds:02d}\")"
      ]
    }
  ]
}