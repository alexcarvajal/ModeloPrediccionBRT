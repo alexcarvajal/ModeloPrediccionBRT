{
 "cells": [
  {
   "cell_type": "code",
   "execution_count": 39,
   "id": "f8cfb80e",
   "metadata": {},
   "outputs": [],
   "source": [
    "import pandas as pd\n",
    "# Load the dataset\n",
    "df = pd.read_csv('./salidas20230809.csv')\n",
    "# Dropping the 'Operador' and 'Linea' columns\n",
    "df_dropped = df.drop(columns=['Operador', 'Linea'])\n",
    "# Filtrar las filas que tienen valor 0 en las columnas 'Entradas_E' y 'Salidas_S'\n",
    "filtered_data0 = df_dropped[(df_dropped['Entradas_E'] == 0) & (df_dropped['Salidas_S'] == 0)]\n",
    "filtered_data0\n",
    "filtered_data = df_dropped[(df_dropped['Entradas_E'] != 0) | (df_dropped['Salidas_S'] != 0)]\n",
    "filtered_data\n",
    "# Calculating the number of NaN values per column\n",
    "nan_counts = filtered_data.isna().sum()\n",
    "nan_counts\n",
    "filtered_data\n",
    "\n",
    "#Filtrar las filas que tienen un valor en la columna 'Tiempo' mayor a '03:45:00'\n",
    "filtered_time_data = filtered_data[filtered_data['Tiempo'] >= '03:45:00']\n",
    "# Mostrar las primeras filas del DataFrame filtrado por tiempo\n",
    "filtered_time_data\n",
    "\n",
    "# Agrupar por la columna 'Estacion' y sumar los valores de 'Entradas_E'\n",
    "top_estaciones = filtered_time_data.groupby('Estacion')['Entradas_E'].sum()\n",
    "\n",
    "# Ordenar las estaciones por 'Entradas_E' en orden descendente y seleccionar las 10 primeras\n",
    "top_10_estaciones = top_estaciones.sort_values(ascending=False).head(10)\n",
    "top_10_estaciones\n",
    "\n",
    "\n",
    "# Filtrar el dataset para incluir solo las 10 estaciones con la mayor cantidad de entradas\n",
    "filtered_top_10_estaciones_data = filtered_time_data[filtered_time_data['Estacion'].isin(top_10_estaciones.index)]\n",
    "\n",
    "# Mostrar las primeras filas del nuevo DataFrame filtrado\n",
    "filtered_top_10_estaciones_data\n",
    "\n",
    "CantidadUsers = filtered_top_10_estaciones_data['Entradas_E'].sum()\n",
    "CantidadUsers\n",
    "\n",
    "#EstacionesTotales = len(df['Estacion'].unique())\n",
    "#EstacionesTotales\n",
    "\n",
    "# Mostrar las primeras filas del nuevo DataFrame filtrado\n",
    "filtered_top_10_estaciones_data.to_csv('PEsoFinal.csv', index=False)"
   ]
  },
  {
   "cell_type": "code",
   "execution_count": null,
   "id": "cf21887f",
   "metadata": {},
   "outputs": [],
   "source": []
  }
 ],
 "metadata": {
  "kernelspec": {
   "display_name": "Python 3 (ipykernel)",
   "language": "python",
   "name": "python3"
  },
  "language_info": {
   "codemirror_mode": {
    "name": "ipython",
    "version": 3
   },
   "file_extension": ".py",
   "mimetype": "text/x-python",
   "name": "python",
   "nbconvert_exporter": "python",
   "pygments_lexer": "ipython3",
   "version": "3.11.1"
  }
 },
 "nbformat": 4,
 "nbformat_minor": 5
}
